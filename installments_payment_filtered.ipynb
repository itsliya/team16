{
 "cells": [
  {
   "cell_type": "code",
   "execution_count": 1,
   "metadata": {},
   "outputs": [],
   "source": [
    "import pandas as pd\n",
    "import numpy as np\n",
    "import matplotlib.pyplot as plt\n",
    "import seaborn as sns"
   ]
  },
  {
   "cell_type": "code",
   "execution_count": 2,
   "metadata": {},
   "outputs": [
    {
     "data": {
      "text/html": [
       "<div>\n",
       "<style scoped>\n",
       "    .dataframe tbody tr th:only-of-type {\n",
       "        vertical-align: middle;\n",
       "    }\n",
       "\n",
       "    .dataframe tbody tr th {\n",
       "        vertical-align: top;\n",
       "    }\n",
       "\n",
       "    .dataframe thead th {\n",
       "        text-align: right;\n",
       "    }\n",
       "</style>\n",
       "<table border=\"1\" class=\"dataframe\">\n",
       "  <thead>\n",
       "    <tr style=\"text-align: right;\">\n",
       "      <th></th>\n",
       "      <th>SK_ID_PREV</th>\n",
       "      <th>SK_ID_CURR</th>\n",
       "      <th>NUM_INSTALMENT_VERSION</th>\n",
       "      <th>NUM_INSTALMENT_NUMBER</th>\n",
       "      <th>DAYS_INSTALMENT</th>\n",
       "      <th>DAYS_ENTRY_PAYMENT</th>\n",
       "      <th>AMT_INSTALMENT</th>\n",
       "      <th>AMT_PAYMENT</th>\n",
       "    </tr>\n",
       "  </thead>\n",
       "  <tbody>\n",
       "    <tr>\n",
       "      <th>0</th>\n",
       "      <td>1054186</td>\n",
       "      <td>161674</td>\n",
       "      <td>1.0</td>\n",
       "      <td>6</td>\n",
       "      <td>-1180.0</td>\n",
       "      <td>-1187.0</td>\n",
       "      <td>6948.360</td>\n",
       "      <td>6948.360</td>\n",
       "    </tr>\n",
       "    <tr>\n",
       "      <th>1</th>\n",
       "      <td>1330831</td>\n",
       "      <td>151639</td>\n",
       "      <td>0.0</td>\n",
       "      <td>34</td>\n",
       "      <td>-2156.0</td>\n",
       "      <td>-2156.0</td>\n",
       "      <td>1716.525</td>\n",
       "      <td>1716.525</td>\n",
       "    </tr>\n",
       "    <tr>\n",
       "      <th>2</th>\n",
       "      <td>2085231</td>\n",
       "      <td>193053</td>\n",
       "      <td>2.0</td>\n",
       "      <td>1</td>\n",
       "      <td>-63.0</td>\n",
       "      <td>-63.0</td>\n",
       "      <td>25425.000</td>\n",
       "      <td>25425.000</td>\n",
       "    </tr>\n",
       "    <tr>\n",
       "      <th>3</th>\n",
       "      <td>2452527</td>\n",
       "      <td>199697</td>\n",
       "      <td>1.0</td>\n",
       "      <td>3</td>\n",
       "      <td>-2418.0</td>\n",
       "      <td>-2426.0</td>\n",
       "      <td>24350.130</td>\n",
       "      <td>24350.130</td>\n",
       "    </tr>\n",
       "    <tr>\n",
       "      <th>4</th>\n",
       "      <td>2714724</td>\n",
       "      <td>167756</td>\n",
       "      <td>1.0</td>\n",
       "      <td>2</td>\n",
       "      <td>-1383.0</td>\n",
       "      <td>-1366.0</td>\n",
       "      <td>2165.040</td>\n",
       "      <td>2160.585</td>\n",
       "    </tr>\n",
       "  </tbody>\n",
       "</table>\n",
       "</div>"
      ],
      "text/plain": [
       "   SK_ID_PREV  SK_ID_CURR  NUM_INSTALMENT_VERSION  NUM_INSTALMENT_NUMBER  \\\n",
       "0     1054186      161674                     1.0                      6   \n",
       "1     1330831      151639                     0.0                     34   \n",
       "2     2085231      193053                     2.0                      1   \n",
       "3     2452527      199697                     1.0                      3   \n",
       "4     2714724      167756                     1.0                      2   \n",
       "\n",
       "   DAYS_INSTALMENT  DAYS_ENTRY_PAYMENT  AMT_INSTALMENT  AMT_PAYMENT  \n",
       "0          -1180.0             -1187.0        6948.360     6948.360  \n",
       "1          -2156.0             -2156.0        1716.525     1716.525  \n",
       "2            -63.0               -63.0       25425.000    25425.000  \n",
       "3          -2418.0             -2426.0       24350.130    24350.130  \n",
       "4          -1383.0             -1366.0        2165.040     2160.585  "
      ]
     },
     "execution_count": 2,
     "metadata": {},
     "output_type": "execute_result"
    }
   ],
   "source": [
    "df_train = pd.read_csv('installments_payments.csv')\n",
    "df_train.head()"
   ]
  },
  {
   "cell_type": "code",
   "execution_count": 3,
   "metadata": {},
   "outputs": [
    {
     "name": "stdout",
     "output_type": "stream",
     "text": [
      "<class 'pandas.core.frame.DataFrame'>\n",
      "RangeIndex: 13605401 entries, 0 to 13605400\n",
      "Data columns (total 8 columns):\n",
      " #   Column                  Dtype  \n",
      "---  ------                  -----  \n",
      " 0   SK_ID_PREV              int64  \n",
      " 1   SK_ID_CURR              int64  \n",
      " 2   NUM_INSTALMENT_VERSION  float64\n",
      " 3   NUM_INSTALMENT_NUMBER   int64  \n",
      " 4   DAYS_INSTALMENT         float64\n",
      " 5   DAYS_ENTRY_PAYMENT      float64\n",
      " 6   AMT_INSTALMENT          float64\n",
      " 7   AMT_PAYMENT             float64\n",
      "dtypes: float64(5), int64(3)\n",
      "memory usage: 830.4 MB\n"
     ]
    }
   ],
   "source": [
    "df_train.info()"
   ]
  },
  {
   "cell_type": "code",
   "execution_count": 4,
   "metadata": {},
   "outputs": [
    {
     "data": {
      "text/plain": [
       "Index(['SK_ID_PREV', 'SK_ID_CURR', 'NUM_INSTALMENT_VERSION',\n",
       "       'NUM_INSTALMENT_NUMBER', 'DAYS_INSTALMENT', 'DAYS_ENTRY_PAYMENT',\n",
       "       'AMT_INSTALMENT', 'AMT_PAYMENT'],\n",
       "      dtype='object')"
      ]
     },
     "execution_count": 4,
     "metadata": {},
     "output_type": "execute_result"
    }
   ],
   "source": [
    "df_train.columns"
   ]
  },
  {
   "cell_type": "markdown",
   "metadata": {},
   "source": [
    "## Drop all the features that you think are not relevant for the project"
   ]
  },
  {
   "cell_type": "markdown",
   "metadata": {},
   "source": [
    "You can drop columns from the Liya's file."
   ]
  },
  {
   "cell_type": "code",
   "execution_count": 5,
   "metadata": {},
   "outputs": [],
   "source": [
    "# df_train = df_train.drop(columns= [\n",
    "#         'NAME_EDUCATION_TYPE', \n",
    "#         'NAME_FAMILY_STATUS', \n",
    "#         'NAME_HOUSING_TYPE',\n",
    "#         'DAYS_BIRTH',\n",
    "#         'OWN_CAR_AGE',\n",
    "#         'FLAG_EMP_PHONE',\n",
    "#         'FLAG_WORK_PHONE',\n",
    "#         'FLAG_CONT_MOBILE',\n",
    "#         'FLAG_PHONE',\n",
    "#         'FLAG_EMAIL',\n",
    "#         'CNT_FAM_MEMBERS',\n",
    "#         'REGION_RATING_CLIENT',\n",
    "#         'WEEKDAY_APPR_PROCESS_START',\n",
    "#         'HOUR_APPR_PROCESS_START',\n",
    "#         'APARTMENTS_AVG',\n",
    "#         'BASEMENTAREA_AVG',\n",
    "#         'YEARS_BEGINEXPLUATATION_AVG',\n",
    "#         'YEARS_BUILD_AVG',\n",
    "#         'COMMONAREA_AVG',\n",
    "#         'ELEVATORS_AVG',\n",
    "#         'ENTRANCES_AVG',\n",
    "#         'FLOORSMAX_AVG',\n",
    "#         'FLOORSMIN_AVG',\n",
    "#         'LANDAREA_AVG',\n",
    "#         'LIVINGAPARTMENTS_AVG',\n",
    "#         'LIVINGAREA_AVG',\n",
    "#         'NONLIVINGAPARTMENTS_AVG',\n",
    "#         'NONLIVINGAREA_AVG',\n",
    "#         'APARTMENTS_MODE',\n",
    "#         'BASEMENTAREA_MODE',\n",
    "#         'YEARS_BEGINEXPLUATATION_MODE',\n",
    "#         'YEARS_BUILD_MODE',\n",
    "#         'COMMONAREA_MODE',\n",
    "#         'ELEVATORS_MODE',\n",
    "#         'ENTRANCES_MODE',\n",
    "#         'FLOORSMAX_MODE',\n",
    "#         'FLOORSMIN_MODE',\n",
    "#         'LANDAREA_MODE',\n",
    "#         'LIVINGAPARTMENTS_MODE',\n",
    "#         'LIVINGAREA_MODE',\n",
    "#         'NONLIVINGAPARTMENTS_MODE',\n",
    "#         'NONLIVINGAREA_MODE',\n",
    "#         'APARTMENTS_MEDI',\n",
    "#         'BASEMENTAREA_MEDI',\n",
    "#         'YEARS_BEGINEXPLUATATION_MEDI',\n",
    "#         'YEARS_BUILD_MEDI',\n",
    "#         'COMMONAREA_MEDI',\n",
    "#         'ELEVATORS_MEDI',\n",
    "#         'ENTRANCES_MEDI',\n",
    "#         'FLOORSMAX_MEDI',\n",
    "#         'FLOORSMIN_MEDI',\n",
    "#         'LANDAREA_MEDI',\n",
    "#         'LIVINGAPARTMENTS_MEDI',\n",
    "#         'LIVINGAREA_MEDI',\n",
    "#         'NONLIVINGAPARTMENTS_MEDI',\n",
    "#         'NONLIVINGAREA_MEDI',\n",
    "#         'FONDKAPREMONT_MODE',\n",
    "#         'HOUSETYPE_MODE',\n",
    "#         'TOTALAREA_MODE',\n",
    "#         'WALLSMATERIAL_MODE',\n",
    "#         'EMERGENCYSTATE_MODE',\n",
    "#         'DAYS_LAST_PHONE_CHANGE',\n",
    "#         'FLAG_DOCUMENT_2',\n",
    "#         'FLAG_DOCUMENT_3',\n",
    "#         'FLAG_DOCUMENT_4',\n",
    "#         'FLAG_DOCUMENT_5',\n",
    "#         'FLAG_DOCUMENT_6',\n",
    "#         'FLAG_DOCUMENT_7',\n",
    "#         'FLAG_DOCUMENT_8',\n",
    "#         'FLAG_DOCUMENT_9',\n",
    "#         'FLAG_DOCUMENT_10',\n",
    "#         'FLAG_DOCUMENT_11',\n",
    "#         'FLAG_DOCUMENT_12',\n",
    "#         'FLAG_DOCUMENT_13',\n",
    "#         'FLAG_DOCUMENT_14',\n",
    "#         'FLAG_DOCUMENT_15',\n",
    "#         'FLAG_DOCUMENT_16',\n",
    "#         'FLAG_DOCUMENT_17',\n",
    "#         'FLAG_DOCUMENT_18',\n",
    "#         'FLAG_DOCUMENT_19',\n",
    "#         'FLAG_DOCUMENT_20',\n",
    "#         'FLAG_DOCUMENT_21'\n",
    "#         ], axis = 1)"
   ]
  },
  {
   "cell_type": "code",
   "execution_count": 6,
   "metadata": {},
   "outputs": [],
   "source": [
    "# df_train.drop(['EXT_SOURCE_1', 'EXT_SOURCE_2', 'EXT_SOURCE_3', ], axis = 1, inplace = True)"
   ]
  },
  {
   "cell_type": "code",
   "execution_count": 7,
   "metadata": {},
   "outputs": [
    {
     "name": "stdout",
     "output_type": "stream",
     "text": [
      "<class 'pandas.core.frame.DataFrame'>\n",
      "RangeIndex: 13605401 entries, 0 to 13605400\n",
      "Data columns (total 8 columns):\n",
      " #   Column                  Dtype  \n",
      "---  ------                  -----  \n",
      " 0   SK_ID_PREV              int64  \n",
      " 1   SK_ID_CURR              int64  \n",
      " 2   NUM_INSTALMENT_VERSION  float64\n",
      " 3   NUM_INSTALMENT_NUMBER   int64  \n",
      " 4   DAYS_INSTALMENT         float64\n",
      " 5   DAYS_ENTRY_PAYMENT      float64\n",
      " 6   AMT_INSTALMENT          float64\n",
      " 7   AMT_PAYMENT             float64\n",
      "dtypes: float64(5), int64(3)\n",
      "memory usage: 830.4 MB\n"
     ]
    }
   ],
   "source": [
    "df_train.info()"
   ]
  },
  {
   "cell_type": "markdown",
   "metadata": {},
   "source": [
    "## Let's work on the categorical features"
   ]
  },
  {
   "cell_type": "markdown",
   "metadata": {},
   "source": [
    "The categorical features are the one with the type 'object' in the above cell. The goal of this part is to check how many distinct values has each of these categorical features. Don't forget that these variables will be transformed into dummy variables at the end, in order to run the machine learning model. As a reminder, if we have $\\textit{n}$ distinct values in a categorical variable, we will get $\\textit{n}-1$ new columns with the dummy method. Having so many features is bad for the model since it will increase the overfitting. \n",
    "\n",
    "Thus if we have many distinct values for a particular categorical variable, we should drop this feature."
   ]
  },
  {
   "cell_type": "markdown",
   "metadata": {},
   "source": [
    "Let's create a list of all categorical features:"
   ]
  },
  {
   "cell_type": "code",
   "execution_count": 8,
   "metadata": {},
   "outputs": [
    {
     "data": {
      "text/plain": [
       "[]"
      ]
     },
     "execution_count": 8,
     "metadata": {},
     "output_type": "execute_result"
    }
   ],
   "source": [
    "[col for col in df_train.columns if df_train[col].dtype == object]"
   ]
  },
  {
   "cell_type": "code",
   "execution_count": 9,
   "metadata": {},
   "outputs": [],
   "source": [
    "L = [col for col in df_train.columns if df_train[col].dtype == object]"
   ]
  },
  {
   "cell_type": "markdown",
   "metadata": {},
   "source": [
    "Let's see how many distinct values they have."
   ]
  },
  {
   "cell_type": "code",
   "execution_count": 10,
   "metadata": {},
   "outputs": [],
   "source": [
    "for col in L:\n",
    "    print(col, 'has ',df_train[col].nunique(), ' distinct values.')"
   ]
  },
  {
   "cell_type": "markdown",
   "metadata": {},
   "source": [
    "It seems that the last two variables have many different values. One approach would be to find relationships between their values in order to gather them and reduce the dimension of distinct values. \n",
    "Here, we will just drop them to simplify the work."
   ]
  },
  {
   "cell_type": "code",
   "execution_count": 11,
   "metadata": {},
   "outputs": [],
   "source": [
    "# df_train.drop(['OCCUPATION_TYPE', 'ORGANIZATION_TYPE'], axis = 1, inplace = True )"
   ]
  },
  {
   "cell_type": "markdown",
   "metadata": {},
   "source": [
    "## Correlation between variables"
   ]
  },
  {
   "cell_type": "markdown",
   "metadata": {},
   "source": [
    "The dependant variable ('Target') should be highly correlated to the independant variables (inputs) but the independant variables should not be correlated with each other. This can cause mutlicollinearity and will have a negative impact on future models.\n",
    "\n",
    "Let's check the correlation matrix."
   ]
  },
  {
   "cell_type": "code",
   "execution_count": 12,
   "metadata": {},
   "outputs": [
    {
     "data": {
      "text/plain": [
       "<AxesSubplot:>"
      ]
     },
     "execution_count": 12,
     "metadata": {},
     "output_type": "execute_result"
    },
    {
     "data": {
      "image/png": "[encoded data removed]",
      "text/plain": [
       "<Figure size 720x720 with 2 Axes>"
      ]
     },
     "metadata": {
      "needs_background": "light"
     },
     "output_type": "display_data"
    }
   ],
   "source": [
    "plt.figure(figsize=(10,10))\n",
    "sns.heatmap(df_train.corr())"
   ]
  },
  {
   "cell_type": "markdown",
   "metadata": {},
   "source": [
    "Flag_mobil seems really correlated with different other features. Let's remove it."
   ]
  },
  {
   "cell_type": "code",
   "execution_count": 13,
   "metadata": {},
   "outputs": [
    {
     "data": {
      "text/plain": [
       "<AxesSubplot:>"
      ]
     },
     "execution_count": 13,
     "metadata": {},
     "output_type": "execute_result"
    },
    {
     "data": {
      "image/png": "[encoded data removed]",
      "text/plain": [
       "<Figure size 720x720 with 2 Axes>"
      ]
     },
     "metadata": {
      "needs_background": "light"
     },
     "output_type": "display_data"
    }
   ],
   "source": [
    "df_train.drop('DAYS_ENTRY_PAYMENT', axis = 1, inplace = True)\n",
    "plt.figure(figsize=(10,10))\n",
    "sns.heatmap(df_train.corr())"
   ]
  },
  {
   "cell_type": "markdown",
   "metadata": {},
   "source": [
    "It worked well! \n",
    "However, we still have some variables correlated with each other. \n",
    "AMT_CREDIT, AMT_ANNUITY and AMT_GOODS_PRICE seem have a relationship together, as well as DEF_60_CNT_SOCIAL_CIRCLE, OBS_60_CNT_SOCIAL_CIRCLE, DEF_30_CNT_SOCIAL_CIRCLE and OBS_30_CNT_SOCIAL_CIRCLE.\n",
    "\n",
    "Let's see their respective correlations:"
   ]
  },
  {
   "cell_type": "code",
   "execution_count": 14,
   "metadata": {},
   "outputs": [
    {
     "data": {
      "text/plain": [
       "<AxesSubplot:>"
      ]
     },
     "execution_count": 14,
     "metadata": {},
     "output_type": "execute_result"
    },
    {
     "data": {
      "image/png": "[encoded data removed]",
      "text/plain": [
       "<Figure size 720x720 with 2 Axes>"
      ]
     },
     "metadata": {
      "needs_background": "light"
     },
     "output_type": "display_data"
    }
   ],
   "source": [
    "# plt.figure(figsize = (5,5))\n",
    "# plt.subplot(3,1,1)\n",
    "\n",
    "# sns.heatmap(df_train[['DEF_60_CNT_SOCIAL_CIRCLE',\n",
    "#           'OBS_60_CNT_SOCIAL_CIRCLE',\n",
    "#           'DEF_30_CNT_SOCIAL_CIRCLE',\n",
    "#           'OBS_30_CNT_SOCIAL_CIRCLE']].corr(), annot=True)\n",
    "\n",
    "# plt.subplot(3,1,3)\n",
    "\n",
    "# sns.heatmap(df_train[['AMT_CREDIT', 'AMT_ANNUITY',\n",
    "#                       'AMT_GOODS_PRICE']].corr(), annot=True)\n",
    "df_train.drop('AMT_INSTALMENT', axis = 1, inplace = True)\n",
    "plt.figure(figsize=(10,10))\n",
    "sns.heatmap(df_train.corr())"
   ]
  },
  {
   "cell_type": "markdown",
   "metadata": {},
   "source": [
    "DEF_30_CNT_SOCIAL_CIRCLE and AMT_CREDIT seem the most correlated with the others so let's remove it. "
   ]
  },
  {
   "cell_type": "code",
   "execution_count": 15,
   "metadata": {},
   "outputs": [],
   "source": [
    "# df_train.drop(['DEF_30_CNT_SOCIAL_CIRCLE','AMT_CREDIT'], axis = 1, inplace = True)"
   ]
  },
  {
   "cell_type": "markdown",
   "metadata": {},
   "source": [
    "Let's check now:"
   ]
  },
  {
   "cell_type": "code",
   "execution_count": 16,
   "metadata": {},
   "outputs": [],
   "source": [
    "# plt.figure(figsize = (5,5))\n",
    "# plt.subplot(3,1,1)\n",
    "\n",
    "# sns.heatmap(df_train[['DEF_60_CNT_SOCIAL_CIRCLE',\n",
    "#           'OBS_60_CNT_SOCIAL_CIRCLE',\n",
    "#           'OBS_30_CNT_SOCIAL_CIRCLE']].corr(), annot=True)\n",
    "\n",
    "# plt.subplot(3,1,3)\n",
    "\n",
    "# sns.heatmap(df_train[['AMT_ANNUITY',\n",
    "#                       'AMT_GOODS_PRICE']].corr(), annot=True)"
   ]
  },
  {
   "cell_type": "markdown",
   "metadata": {},
   "source": [
    "AMT_ANNUITY and AMT_GOODS_PRICE seem still correlated so we will drop one of them."
   ]
  },
  {
   "cell_type": "code",
   "execution_count": 17,
   "metadata": {},
   "outputs": [],
   "source": [
    "# df_train.drop(['AMT_ANNUITY'], axis = 1, inplace = True)"
   ]
  },
  {
   "cell_type": "markdown",
   "metadata": {},
   "source": [
    "There is still correlation between the following variables: "
   ]
  },
  {
   "cell_type": "code",
   "execution_count": 18,
   "metadata": {},
   "outputs": [],
   "source": [
    "# sns.heatmap(df_train[['REG_REGION_NOT_LIVE_REGION',\n",
    "#           'REG_REGION_NOT_WORK_REGION',\n",
    "#           'LIVE_REGION_NOT_WORK_REGION',\n",
    "#           'REG_CITY_NOT_LIVE_CITY',\n",
    "#           'REG_CITY_NOT_WORK_CITY',\n",
    "#           'LIVE_CITY_NOT_WORK_CITY']].corr(), annot=True)"
   ]
  },
  {
   "cell_type": "markdown",
   "metadata": {},
   "source": [
    "So we can remove REG_REGION_NOT_WORK_REGION and REG_CITY_NOT_WORK_CITY. "
   ]
  },
  {
   "cell_type": "code",
   "execution_count": 19,
   "metadata": {},
   "outputs": [],
   "source": [
    "# df_train.drop(['REG_REGION_NOT_WORK_REGION', 'REG_CITY_NOT_WORK_CITY'], axis =1, inplace = True)"
   ]
  },
  {
   "cell_type": "code",
   "execution_count": 20,
   "metadata": {},
   "outputs": [],
   "source": [
    "# sns.heatmap(df_train[['REG_REGION_NOT_LIVE_REGION',\n",
    "#           'LIVE_REGION_NOT_WORK_REGION',\n",
    "#           'REG_CITY_NOT_LIVE_CITY',\n",
    "#           'LIVE_CITY_NOT_WORK_CITY']].corr(), annot=True)"
   ]
  },
  {
   "cell_type": "markdown",
   "metadata": {},
   "source": [
    "Now we are ready to work with the remaining features! "
   ]
  },
  {
   "cell_type": "code",
   "execution_count": 21,
   "metadata": {},
   "outputs": [
    {
     "data": {
      "text/plain": [
       "(13605401, 6)"
      ]
     },
     "execution_count": 21,
     "metadata": {},
     "output_type": "execute_result"
    }
   ],
   "source": [
    "df_train.shape"
   ]
  },
  {
   "cell_type": "code",
   "execution_count": 22,
   "metadata": {},
   "outputs": [],
   "source": [
    "df_train.to_csv('install_pay.csv')"
   ]
  },
  {
   "cell_type": "code",
   "execution_count": null,
   "metadata": {},
   "outputs": [],
   "source": []
  }
 ],
 "metadata": {
  "kernelspec": {
   "display_name": "Python 3",
   "language": "python",
   "name": "python3"
  },
  "language_info": {
   "codemirror_mode": {
    "name": "ipython",
    "version": 3
   },
   "file_extension": ".py",
   "mimetype": "text/x-python",
   "name": "python",
   "nbconvert_exporter": "python",
   "pygments_lexer": "ipython3",
   "version": "3.8.5"
  }
 },
 "nbformat": 4,
 "nbformat_minor": 4
}
